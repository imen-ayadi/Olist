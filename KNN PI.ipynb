{
 "cells": [
  {
   "cell_type": "code",
   "execution_count": 1,
   "id": "2925689c",
   "metadata": {},
   "outputs": [],
   "source": [
    "import pandas as pd\n",
    "import matplotlib.pyplot as plt \n",
    "import numpy as np \n",
    "import seaborn as sns"
   ]
  },
  {
   "cell_type": "code",
   "execution_count": 2,
   "id": "caeb0f6c",
   "metadata": {},
   "outputs": [],
   "source": [
    "prod = pd.read_csv(\"ml.csv\", index_col = None,delimiter =\";\")"
   ]
  },
  {
   "cell_type": "code",
   "execution_count": 3,
   "id": "5cb821cb",
   "metadata": {},
   "outputs": [],
   "source": [
    "pd.read_csv?"
   ]
  },
  {
   "cell_type": "code",
   "execution_count": 4,
   "id": "1ff8bf18",
   "metadata": {},
   "outputs": [
    {
     "data": {
      "text/html": [
       "<div>\n",
       "<style scoped>\n",
       "    .dataframe tbody tr th:only-of-type {\n",
       "        vertical-align: middle;\n",
       "    }\n",
       "\n",
       "    .dataframe tbody tr th {\n",
       "        vertical-align: top;\n",
       "    }\n",
       "\n",
       "    .dataframe thead th {\n",
       "        text-align: right;\n",
       "    }\n",
       "</style>\n",
       "<table border=\"1\" class=\"dataframe\">\n",
       "  <thead>\n",
       "    <tr style=\"text-align: right;\">\n",
       "      <th></th>\n",
       "      <th>_product_category_name_</th>\n",
       "      <th>_product_name_lenght_</th>\n",
       "      <th>_product_weight_g_</th>\n",
       "      <th>_product_length_cm_</th>\n",
       "      <th>_product_height_cm_</th>\n",
       "      <th>_product_width_cm_</th>\n",
       "      <th>_seller_city_</th>\n",
       "      <th>_seller_state_</th>\n",
       "      <th>_payment_type_</th>\n",
       "      <th>_payment_installments_</th>\n",
       "      <th>_payment_value_</th>\n",
       "      <th>_price_</th>\n",
       "      <th>_freight_value_</th>\n",
       "    </tr>\n",
       "  </thead>\n",
       "  <tbody>\n",
       "    <tr>\n",
       "      <th>0</th>\n",
       "      <td>cool_stuff</td>\n",
       "      <td>58.0</td>\n",
       "      <td>650.0</td>\n",
       "      <td>28.0</td>\n",
       "      <td>9.0</td>\n",
       "      <td>14.0</td>\n",
       "      <td>volta redonda</td>\n",
       "      <td>SP</td>\n",
       "      <td>credit_card</td>\n",
       "      <td>2</td>\n",
       "      <td>72.19</td>\n",
       "      <td>58.90</td>\n",
       "      <td>13.29</td>\n",
       "    </tr>\n",
       "    <tr>\n",
       "      <th>1</th>\n",
       "      <td>pet_shop</td>\n",
       "      <td>56.0</td>\n",
       "      <td>30000.0</td>\n",
       "      <td>50.0</td>\n",
       "      <td>30.0</td>\n",
       "      <td>40.0</td>\n",
       "      <td>sao paulo</td>\n",
       "      <td>SP</td>\n",
       "      <td>credit_card</td>\n",
       "      <td>3</td>\n",
       "      <td>259.83</td>\n",
       "      <td>239.90</td>\n",
       "      <td>19.93</td>\n",
       "    </tr>\n",
       "    <tr>\n",
       "      <th>2</th>\n",
       "      <td>moveis_decoracao</td>\n",
       "      <td>59.0</td>\n",
       "      <td>3050.0</td>\n",
       "      <td>33.0</td>\n",
       "      <td>13.0</td>\n",
       "      <td>33.0</td>\n",
       "      <td>borda da mata</td>\n",
       "      <td>MG</td>\n",
       "      <td>credit_card</td>\n",
       "      <td>5</td>\n",
       "      <td>216.87</td>\n",
       "      <td>199.00</td>\n",
       "      <td>17.87</td>\n",
       "    </tr>\n",
       "    <tr>\n",
       "      <th>3</th>\n",
       "      <td>perfumaria</td>\n",
       "      <td>42.0</td>\n",
       "      <td>200.0</td>\n",
       "      <td>16.0</td>\n",
       "      <td>10.0</td>\n",
       "      <td>15.0</td>\n",
       "      <td>franca</td>\n",
       "      <td>SP</td>\n",
       "      <td>credit_card</td>\n",
       "      <td>2</td>\n",
       "      <td>25.78</td>\n",
       "      <td>12.99</td>\n",
       "      <td>12.79</td>\n",
       "    </tr>\n",
       "    <tr>\n",
       "      <th>4</th>\n",
       "      <td>ferramentas_jardim</td>\n",
       "      <td>59.0</td>\n",
       "      <td>3750.0</td>\n",
       "      <td>35.0</td>\n",
       "      <td>40.0</td>\n",
       "      <td>30.0</td>\n",
       "      <td>loanda</td>\n",
       "      <td>PR</td>\n",
       "      <td>credit_card</td>\n",
       "      <td>3</td>\n",
       "      <td>218.04</td>\n",
       "      <td>199.90</td>\n",
       "      <td>18.14</td>\n",
       "    </tr>\n",
       "  </tbody>\n",
       "</table>\n",
       "</div>"
      ],
      "text/plain": [
       "  _product_category_name_  _product_name_lenght_  _product_weight_g_  \\\n",
       "0              cool_stuff                   58.0               650.0   \n",
       "1                pet_shop                   56.0             30000.0   \n",
       "2        moveis_decoracao                   59.0              3050.0   \n",
       "3              perfumaria                   42.0               200.0   \n",
       "4      ferramentas_jardim                   59.0              3750.0   \n",
       "\n",
       "   _product_length_cm_  _product_height_cm_  _product_width_cm_  \\\n",
       "0                 28.0                  9.0                14.0   \n",
       "1                 50.0                 30.0                40.0   \n",
       "2                 33.0                 13.0                33.0   \n",
       "3                 16.0                 10.0                15.0   \n",
       "4                 35.0                 40.0                30.0   \n",
       "\n",
       "   _seller_city_ _seller_state_ _payment_type_  _payment_installments_  \\\n",
       "0  volta redonda             SP    credit_card                       2   \n",
       "1      sao paulo             SP    credit_card                       3   \n",
       "2  borda da mata             MG    credit_card                       5   \n",
       "3         franca             SP    credit_card                       2   \n",
       "4         loanda             PR    credit_card                       3   \n",
       "\n",
       "   _payment_value_  _price_  _freight_value_  \n",
       "0            72.19    58.90            13.29  \n",
       "1           259.83   239.90            19.93  \n",
       "2           216.87   199.00            17.87  \n",
       "3            25.78    12.99            12.79  \n",
       "4           218.04   199.90            18.14  "
      ]
     },
     "execution_count": 4,
     "metadata": {},
     "output_type": "execute_result"
    }
   ],
   "source": [
    "prod.head()"
   ]
  },
  {
   "cell_type": "code",
   "execution_count": 5,
   "id": "82c8bf2d",
   "metadata": {},
   "outputs": [
    {
     "data": {
      "text/plain": [
       "_product_category_name_     object\n",
       "_product_name_lenght_      float64\n",
       "_product_weight_g_         float64\n",
       "_product_length_cm_        float64\n",
       "_product_height_cm_        float64\n",
       "_product_width_cm_         float64\n",
       "_seller_city_               object\n",
       "_seller_state_              object\n",
       "_payment_type_              object\n",
       "_payment_installments_       int64\n",
       "_payment_value_            float64\n",
       "_price_                    float64\n",
       "_freight_value_            float64\n",
       "dtype: object"
      ]
     },
     "execution_count": 5,
     "metadata": {},
     "output_type": "execute_result"
    }
   ],
   "source": [
    "prod.dtypes#ridge,losso"
   ]
  },
  {
   "cell_type": "code",
   "execution_count": 6,
   "id": "ad7c035c",
   "metadata": {},
   "outputs": [
    {
     "data": {
      "text/plain": [
       "cama_mesa_banho                                  7095\n",
       "beleza_saude                                     6027\n",
       "esporte_lazer                                    5482\n",
       "moveis_decoracao                                 5255\n",
       "informatica_acessorios                           4973\n",
       "                                                 ... \n",
       "la_cuisine                                         10\n",
       "portateis_cozinha_e_preparadores_de_alimentos       7\n",
       "pc_gamer                                            7\n",
       "fashion_roupa_infanto_juvenil                       3\n",
       "seguros_e_servicos                                  1\n",
       "Name: _product_category_name_, Length: 73, dtype: int64"
      ]
     },
     "execution_count": 6,
     "metadata": {},
     "output_type": "execute_result"
    }
   ],
   "source": [
    "prod[\"_product_category_name_\"].value_counts()#onehotecoder"
   ]
  },
  {
   "cell_type": "code",
   "execution_count": 7,
   "id": "14e8ca6a",
   "metadata": {},
   "outputs": [],
   "source": [
    "prod.dropna(inplace = True)"
   ]
  },
  {
   "cell_type": "code",
   "execution_count": 8,
   "id": "e3628644",
   "metadata": {},
   "outputs": [
    {
     "data": {
      "text/plain": [
       "_product_category_name_    0\n",
       "_product_name_lenght_      0\n",
       "_product_weight_g_         0\n",
       "_product_length_cm_        0\n",
       "_product_height_cm_        0\n",
       "_product_width_cm_         0\n",
       "_seller_city_              0\n",
       "_seller_state_             0\n",
       "_payment_type_             0\n",
       "_payment_installments_     0\n",
       "_payment_value_            0\n",
       "_price_                    0\n",
       "_freight_value_            0\n",
       "dtype: int64"
      ]
     },
     "execution_count": 8,
     "metadata": {},
     "output_type": "execute_result"
    }
   ],
   "source": [
    "prod.isnull().sum()"
   ]
  },
  {
   "cell_type": "code",
   "execution_count": 9,
   "id": "e9debb26",
   "metadata": {},
   "outputs": [
    {
     "data": {
      "text/plain": [
       "credit_card    52993\n",
       "boleto         14386\n",
       "voucher         1980\n",
       "debit_card      1053\n",
       "Name: _payment_type_, dtype: int64"
      ]
     },
     "execution_count": 9,
     "metadata": {},
     "output_type": "execute_result"
    }
   ],
   "source": [
    "prod[\"_payment_type_\"].value_counts()"
   ]
  },
  {
   "cell_type": "code",
   "execution_count": 10,
   "id": "deba75db",
   "metadata": {},
   "outputs": [],
   "source": [
    "prod[\"_payment_type_\"] = prod[\"_payment_type_\"].map({'credit_card': 0, 'boleto': 1, 'voucher': 2, 'debit_card': 3})"
   ]
  },
  {
   "cell_type": "code",
   "execution_count": 11,
   "id": "e283f481",
   "metadata": {},
   "outputs": [],
   "source": [
    "corr_matrix = prod[['_product_name_lenght_','_product_weight_g_','_product_length_cm_','_product_height_cm_','_product_width_cm_','_payment_type_','_payment_installments_','_payment_value_','_price_','_freight_value_','_product_category_name_']].corr()"
   ]
  },
  {
   "cell_type": "code",
   "execution_count": 12,
   "id": "c0a12fe0",
   "metadata": {},
   "outputs": [
    {
     "data": {
      "text/html": [
       "<div>\n",
       "<style scoped>\n",
       "    .dataframe tbody tr th:only-of-type {\n",
       "        vertical-align: middle;\n",
       "    }\n",
       "\n",
       "    .dataframe tbody tr th {\n",
       "        vertical-align: top;\n",
       "    }\n",
       "\n",
       "    .dataframe thead th {\n",
       "        text-align: right;\n",
       "    }\n",
       "</style>\n",
       "<table border=\"1\" class=\"dataframe\">\n",
       "  <thead>\n",
       "    <tr style=\"text-align: right;\">\n",
       "      <th></th>\n",
       "      <th>_product_name_lenght_</th>\n",
       "      <th>_product_weight_g_</th>\n",
       "      <th>_product_length_cm_</th>\n",
       "      <th>_product_height_cm_</th>\n",
       "      <th>_product_width_cm_</th>\n",
       "      <th>_payment_type_</th>\n",
       "      <th>_payment_installments_</th>\n",
       "      <th>_payment_value_</th>\n",
       "      <th>_price_</th>\n",
       "      <th>_freight_value_</th>\n",
       "    </tr>\n",
       "  </thead>\n",
       "  <tbody>\n",
       "    <tr>\n",
       "      <th>_product_name_lenght_</th>\n",
       "      <td>1.000000</td>\n",
       "      <td>0.023151</td>\n",
       "      <td>0.058972</td>\n",
       "      <td>-0.026293</td>\n",
       "      <td>0.064073</td>\n",
       "      <td>0.004536</td>\n",
       "      <td>0.020763</td>\n",
       "      <td>0.000927</td>\n",
       "      <td>0.017286</td>\n",
       "      <td>0.024410</td>\n",
       "    </tr>\n",
       "    <tr>\n",
       "      <th>_product_weight_g_</th>\n",
       "      <td>0.023151</td>\n",
       "      <td>1.000000</td>\n",
       "      <td>0.458096</td>\n",
       "      <td>0.584623</td>\n",
       "      <td>0.502930</td>\n",
       "      <td>-0.027113</td>\n",
       "      <td>0.182935</td>\n",
       "      <td>0.293698</td>\n",
       "      <td>0.334859</td>\n",
       "      <td>0.613853</td>\n",
       "    </tr>\n",
       "    <tr>\n",
       "      <th>_product_length_cm_</th>\n",
       "      <td>0.058972</td>\n",
       "      <td>0.458096</td>\n",
       "      <td>1.000000</td>\n",
       "      <td>0.188983</td>\n",
       "      <td>0.530867</td>\n",
       "      <td>-0.015714</td>\n",
       "      <td>0.121745</td>\n",
       "      <td>0.137359</td>\n",
       "      <td>0.146124</td>\n",
       "      <td>0.305605</td>\n",
       "    </tr>\n",
       "    <tr>\n",
       "      <th>_product_height_cm_</th>\n",
       "      <td>-0.026293</td>\n",
       "      <td>0.584623</td>\n",
       "      <td>0.188983</td>\n",
       "      <td>1.000000</td>\n",
       "      <td>0.279040</td>\n",
       "      <td>-0.025130</td>\n",
       "      <td>0.126292</td>\n",
       "      <td>0.206577</td>\n",
       "      <td>0.222605</td>\n",
       "      <td>0.390955</td>\n",
       "    </tr>\n",
       "    <tr>\n",
       "      <th>_product_width_cm_</th>\n",
       "      <td>0.064073</td>\n",
       "      <td>0.502930</td>\n",
       "      <td>0.530867</td>\n",
       "      <td>0.279040</td>\n",
       "      <td>1.000000</td>\n",
       "      <td>-0.023136</td>\n",
       "      <td>0.141803</td>\n",
       "      <td>0.140705</td>\n",
       "      <td>0.163296</td>\n",
       "      <td>0.321546</td>\n",
       "    </tr>\n",
       "    <tr>\n",
       "      <th>_payment_type_</th>\n",
       "      <td>0.004536</td>\n",
       "      <td>-0.027113</td>\n",
       "      <td>-0.015714</td>\n",
       "      <td>-0.025130</td>\n",
       "      <td>-0.023136</td>\n",
       "      <td>1.000000</td>\n",
       "      <td>-0.364168</td>\n",
       "      <td>-0.038068</td>\n",
       "      <td>-0.050106</td>\n",
       "      <td>-0.020381</td>\n",
       "    </tr>\n",
       "    <tr>\n",
       "      <th>_payment_installments_</th>\n",
       "      <td>0.020763</td>\n",
       "      <td>0.182935</td>\n",
       "      <td>0.121745</td>\n",
       "      <td>0.126292</td>\n",
       "      <td>0.141803</td>\n",
       "      <td>-0.364168</td>\n",
       "      <td>1.000000</td>\n",
       "      <td>0.244920</td>\n",
       "      <td>0.280994</td>\n",
       "      <td>0.189912</td>\n",
       "    </tr>\n",
       "    <tr>\n",
       "      <th>_payment_value_</th>\n",
       "      <td>0.000927</td>\n",
       "      <td>0.293698</td>\n",
       "      <td>0.137359</td>\n",
       "      <td>0.206577</td>\n",
       "      <td>0.140705</td>\n",
       "      <td>-0.038068</td>\n",
       "      <td>0.244920</td>\n",
       "      <td>1.000000</td>\n",
       "      <td>0.736581</td>\n",
       "      <td>0.361490</td>\n",
       "    </tr>\n",
       "    <tr>\n",
       "      <th>_price_</th>\n",
       "      <td>0.017286</td>\n",
       "      <td>0.334859</td>\n",
       "      <td>0.146124</td>\n",
       "      <td>0.222605</td>\n",
       "      <td>0.163296</td>\n",
       "      <td>-0.050106</td>\n",
       "      <td>0.280994</td>\n",
       "      <td>0.736581</td>\n",
       "      <td>1.000000</td>\n",
       "      <td>0.416981</td>\n",
       "    </tr>\n",
       "    <tr>\n",
       "      <th>_freight_value_</th>\n",
       "      <td>0.024410</td>\n",
       "      <td>0.613853</td>\n",
       "      <td>0.305605</td>\n",
       "      <td>0.390955</td>\n",
       "      <td>0.321546</td>\n",
       "      <td>-0.020381</td>\n",
       "      <td>0.189912</td>\n",
       "      <td>0.361490</td>\n",
       "      <td>0.416981</td>\n",
       "      <td>1.000000</td>\n",
       "    </tr>\n",
       "  </tbody>\n",
       "</table>\n",
       "</div>"
      ],
      "text/plain": [
       "                        _product_name_lenght_  _product_weight_g_  \\\n",
       "_product_name_lenght_                1.000000            0.023151   \n",
       "_product_weight_g_                   0.023151            1.000000   \n",
       "_product_length_cm_                  0.058972            0.458096   \n",
       "_product_height_cm_                 -0.026293            0.584623   \n",
       "_product_width_cm_                   0.064073            0.502930   \n",
       "_payment_type_                       0.004536           -0.027113   \n",
       "_payment_installments_               0.020763            0.182935   \n",
       "_payment_value_                      0.000927            0.293698   \n",
       "_price_                              0.017286            0.334859   \n",
       "_freight_value_                      0.024410            0.613853   \n",
       "\n",
       "                        _product_length_cm_  _product_height_cm_  \\\n",
       "_product_name_lenght_              0.058972            -0.026293   \n",
       "_product_weight_g_                 0.458096             0.584623   \n",
       "_product_length_cm_                1.000000             0.188983   \n",
       "_product_height_cm_                0.188983             1.000000   \n",
       "_product_width_cm_                 0.530867             0.279040   \n",
       "_payment_type_                    -0.015714            -0.025130   \n",
       "_payment_installments_             0.121745             0.126292   \n",
       "_payment_value_                    0.137359             0.206577   \n",
       "_price_                            0.146124             0.222605   \n",
       "_freight_value_                    0.305605             0.390955   \n",
       "\n",
       "                        _product_width_cm_  _payment_type_  \\\n",
       "_product_name_lenght_             0.064073        0.004536   \n",
       "_product_weight_g_                0.502930       -0.027113   \n",
       "_product_length_cm_               0.530867       -0.015714   \n",
       "_product_height_cm_               0.279040       -0.025130   \n",
       "_product_width_cm_                1.000000       -0.023136   \n",
       "_payment_type_                   -0.023136        1.000000   \n",
       "_payment_installments_            0.141803       -0.364168   \n",
       "_payment_value_                   0.140705       -0.038068   \n",
       "_price_                           0.163296       -0.050106   \n",
       "_freight_value_                   0.321546       -0.020381   \n",
       "\n",
       "                        _payment_installments_  _payment_value_   _price_  \\\n",
       "_product_name_lenght_                 0.020763         0.000927  0.017286   \n",
       "_product_weight_g_                    0.182935         0.293698  0.334859   \n",
       "_product_length_cm_                   0.121745         0.137359  0.146124   \n",
       "_product_height_cm_                   0.126292         0.206577  0.222605   \n",
       "_product_width_cm_                    0.141803         0.140705  0.163296   \n",
       "_payment_type_                       -0.364168        -0.038068 -0.050106   \n",
       "_payment_installments_                1.000000         0.244920  0.280994   \n",
       "_payment_value_                       0.244920         1.000000  0.736581   \n",
       "_price_                               0.280994         0.736581  1.000000   \n",
       "_freight_value_                       0.189912         0.361490  0.416981   \n",
       "\n",
       "                        _freight_value_  \n",
       "_product_name_lenght_          0.024410  \n",
       "_product_weight_g_             0.613853  \n",
       "_product_length_cm_            0.305605  \n",
       "_product_height_cm_            0.390955  \n",
       "_product_width_cm_             0.321546  \n",
       "_payment_type_                -0.020381  \n",
       "_payment_installments_         0.189912  \n",
       "_payment_value_                0.361490  \n",
       "_price_                        0.416981  \n",
       "_freight_value_                1.000000  "
      ]
     },
     "execution_count": 12,
     "metadata": {},
     "output_type": "execute_result"
    }
   ],
   "source": [
    "corr_matrix"
   ]
  },
  {
   "cell_type": "code",
   "execution_count": 13,
   "id": "551059e7",
   "metadata": {},
   "outputs": [
    {
     "data": {
      "text/plain": [
       "<AxesSubplot:>"
      ]
     },
     "execution_count": 13,
     "metadata": {},
     "output_type": "execute_result"
    },
    {
     "data": {
      "image/png": "[encoded data removed]",
      "text/plain": [
       "<Figure size 432x288 with 2 Axes>"
      ]
     },
     "metadata": {
      "needs_background": "light"
     },
     "output_type": "display_data"
    }
   ],
   "source": [
    "sns.heatmap(data = corr_matrix,annot = True,linewidths =0.5)"
   ]
  },
  {
   "cell_type": "code",
   "execution_count": 14,
   "id": "b872dc4c",
   "metadata": {},
   "outputs": [
    {
     "data": {
      "text/plain": [
       "array(['cool_stuff', 'pet_shop', 'moveis_decoracao', 'perfumaria',\n",
       "       'ferramentas_jardim', 'utilidades_domesticas', 'telefonia',\n",
       "       'beleza_saude', 'livros_tecnicos', 'fashion_bolsas_e_acessorios',\n",
       "       'cama_mesa_banho', 'esporte_lazer', 'consoles_games',\n",
       "       'moveis_escritorio', 'malas_acessorios', 'alimentos',\n",
       "       'agro_industria_e_comercio', 'eletronicos',\n",
       "       'informatica_acessorios', 'construcao_ferramentas_construcao',\n",
       "       'audio', 'bebes', 'construcao_ferramentas_iluminacao',\n",
       "       'brinquedos', 'papelaria', 'industria_comercio_e_negocios',\n",
       "       'relogios_presentes', 'automotivo', 'eletrodomesticos',\n",
       "       'moveis_cozinha_area_de_servico_jantar_e_jardim', 'climatizacao',\n",
       "       'casa_conforto', 'telefonia_fixa', 'portateis_casa_forno_e_cafe',\n",
       "       'fraldas_higiene', 'sinalizacao_e_seguranca',\n",
       "       'instrumentos_musicais', 'eletroportateis',\n",
       "       'construcao_ferramentas_jardim', 'artes', 'casa_construcao',\n",
       "       'livros_interesse_geral', 'artigos_de_festas',\n",
       "       'construcao_ferramentas_seguranca', 'cine_foto',\n",
       "       'fashion_underwear_e_moda_praia', 'fashion_roupa_masculina',\n",
       "       'alimentos_bebidas', 'bebidas', 'moveis_sala', 'market_place',\n",
       "       'musica', 'fashion_calcados', 'flores', 'eletrodomesticos_2',\n",
       "       'fashion_roupa_feminina', 'pcs', 'livros_importados',\n",
       "       'artigos_de_natal', 'moveis_quarto', 'casa_conforto_2',\n",
       "       'portateis_cozinha_e_preparadores_de_alimentos', 'dvds_blu_ray',\n",
       "       'cds_dvds_musicais', 'artes_e_artesanato',\n",
       "       'moveis_colchao_e_estofado', 'tablets_impressao_imagem',\n",
       "       'construcao_ferramentas_ferramentas', 'fashion_esporte',\n",
       "       'la_cuisine', 'pc_gamer', 'seguros_e_servicos',\n",
       "       'fashion_roupa_infanto_juvenil'], dtype=object)"
      ]
     },
     "execution_count": 14,
     "metadata": {},
     "output_type": "execute_result"
    }
   ],
   "source": [
    "prod[\"_product_category_name_\"].unique()"
   ]
  },
  {
   "cell_type": "code",
   "execution_count": 15,
   "id": "ffa169f2",
   "metadata": {},
   "outputs": [
    {
     "data": {
      "text/plain": [
       "Others                    37103\n",
       "cama_mesa_banho            7095\n",
       "beleza_saude               6027\n",
       "esporte_lazer              5482\n",
       "moveis_decoracao           5255\n",
       "informatica_acessorios     4973\n",
       "utilidades_domesticas      4477\n",
       "Name: _product_category_name_, dtype: int64"
      ]
     },
     "execution_count": 15,
     "metadata": {},
     "output_type": "execute_result"
    }
   ],
   "source": [
    "prod[\"_product_category_name_\"].replace(['perfumaria', 'artes', 'bebes',\n",
    "       'instrumentos_musicais', 'cool_stuff','utilidades_domesticas'\n",
    "       'eletrodomesticos', 'brinquedos',\n",
    "       'construcao_ferramentas_seguranca',\n",
    "       'malas_acessorios',\n",
    "       'ferramentas_jardim', 'moveis_escritorio', 'automotivo',\n",
    "       'eletronicos', 'fashion_calcados', 'telefonia', 'papelaria',\n",
    "       'fashion_bolsas_e_acessorios', 'pcs', 'casa_construcao',\n",
    "       'relogios_presentes', 'construcao_ferramentas_construcao',\n",
    "       'pet_shop', 'eletroportateis', 'agro_industria_e_comercio',\n",
    "       'moveis_sala', 'sinalizacao_e_seguranca', 'climatizacao',\n",
    "       'consoles_games', 'livros_interesse_geral',\n",
    "       'construcao_ferramentas_ferramentas',\n",
    "       'fashion_underwear_e_moda_praia', 'fashion_roupa_masculina',\n",
    "       'moveis_cozinha_area_de_servico_jantar_e_jardim','eletrodomesticos',\n",
    "       'industria_comercio_e_negocios', 'telefonia_fixa',\n",
    "       'construcao_ferramentas_iluminacao', 'livros_tecnicos',\n",
    "       'eletrodomesticos_2', 'artigos_de_festas', 'bebidas',\n",
    "       'market_place', 'la_cuisine', 'construcao_ferramentas_jardim',\n",
    "       'fashion_roupa_feminina', 'casa_conforto', 'audio',\n",
    "       'alimentos_bebidas', 'musica', 'alimentos',\n",
    "       'tablets_impressao_imagem', 'livros_importados',\n",
    "       'portateis_casa_forno_e_cafe', 'fashion_esporte',\n",
    "       'artigos_de_natal', 'fashion_roupa_infanto_juvenil',\n",
    "       'dvds_blu_ray', 'artes_e_artesanato', 'pc_gamer', 'moveis_quarto',\n",
    "       'cine_foto', 'fraldas_higiene', 'flores', 'casa_conforto_2',\n",
    "       'portateis_cozinha_e_preparadores_de_alimentos',\n",
    "       'seguros_e_servicos', 'moveis_colchao_e_estofado',\n",
    "       'cds_dvds_musicais'], 'Others', inplace=True)\n",
    "\n",
    "prod[\"_product_category_name_\"].value_counts()"
   ]
  },
  {
   "cell_type": "code",
   "execution_count": 16,
   "id": "d6a72e5a",
   "metadata": {},
   "outputs": [],
   "source": [
    "condition = prod['_product_category_name_'] == 'Others'\n",
    "index_to_drop = prod[condition].index\n",
    "prod.drop(index_to_drop, inplace=True)\n"
   ]
  },
  {
   "cell_type": "code",
   "execution_count": 17,
   "id": "488b05d5",
   "metadata": {},
   "outputs": [
    {
     "data": {
      "text/plain": [
       "cama_mesa_banho           7095\n",
       "beleza_saude              6027\n",
       "esporte_lazer             5482\n",
       "moveis_decoracao          5255\n",
       "informatica_acessorios    4973\n",
       "utilidades_domesticas     4477\n",
       "Name: _product_category_name_, dtype: int64"
      ]
     },
     "execution_count": 17,
     "metadata": {},
     "output_type": "execute_result"
    }
   ],
   "source": [
    "prod[\"_product_category_name_\"].value_counts()"
   ]
  },
  {
   "cell_type": "code",
   "execution_count": 18,
   "id": "b80c5d92",
   "metadata": {},
   "outputs": [],
   "source": [
    "prod[\"_product_category_name_\"] = prod[\"_product_category_name_\"].map({'cama_mesa_banho': 0, 'esporte_lazer': 1, 'moveis_decoracao': 2\n",
    "                                                                  ,'beleza_saude': 3, 'utilidades_domesticas': 4, 'informatica_acessorios': 5})"
   ]
  },
  {
   "cell_type": "code",
   "execution_count": 19,
   "id": "904dfd74",
   "metadata": {},
   "outputs": [
    {
     "data": {
      "text/plain": [
       "0    7095\n",
       "3    6027\n",
       "1    5482\n",
       "2    5255\n",
       "5    4973\n",
       "4    4477\n",
       "Name: _product_category_name_, dtype: int64"
      ]
     },
     "execution_count": 19,
     "metadata": {},
     "output_type": "execute_result"
    }
   ],
   "source": [
    "prod[\"_product_category_name_\"].value_counts()"
   ]
  },
  {
   "cell_type": "code",
   "execution_count": 20,
   "id": "64d7fa56",
   "metadata": {},
   "outputs": [
    {
     "data": {
      "text/plain": [
       "2        2\n",
       "5        4\n",
       "8        3\n",
       "10       3\n",
       "12       0\n",
       "        ..\n",
       "71418    4\n",
       "71419    5\n",
       "71420    1\n",
       "71421    5\n",
       "71422    0\n",
       "Name: _product_category_name_, Length: 33309, dtype: int64"
      ]
     },
     "execution_count": 20,
     "metadata": {},
     "output_type": "execute_result"
    }
   ],
   "source": [
    "#col1 = [1] \n",
    "#y = prod.iloc[:,col1]\n",
    "y = prod._product_category_name_\n",
    "y"
   ]
  },
  {
   "cell_type": "code",
   "execution_count": 21,
   "id": "e21146ca",
   "metadata": {},
   "outputs": [
    {
     "data": {
      "text/html": [
       "<div>\n",
       "<style scoped>\n",
       "    .dataframe tbody tr th:only-of-type {\n",
       "        vertical-align: middle;\n",
       "    }\n",
       "\n",
       "    .dataframe tbody tr th {\n",
       "        vertical-align: top;\n",
       "    }\n",
       "\n",
       "    .dataframe thead th {\n",
       "        text-align: right;\n",
       "    }\n",
       "</style>\n",
       "<table border=\"1\" class=\"dataframe\">\n",
       "  <thead>\n",
       "    <tr style=\"text-align: right;\">\n",
       "      <th></th>\n",
       "      <th>_product_category_name_</th>\n",
       "      <th>_product_name_lenght_</th>\n",
       "      <th>_product_weight_g_</th>\n",
       "      <th>_product_length_cm_</th>\n",
       "      <th>_product_height_cm_</th>\n",
       "      <th>_product_width_cm_</th>\n",
       "      <th>_seller_city_</th>\n",
       "      <th>_seller_state_</th>\n",
       "      <th>_payment_type_</th>\n",
       "      <th>_payment_installments_</th>\n",
       "      <th>_payment_value_</th>\n",
       "      <th>_price_</th>\n",
       "      <th>_freight_value_</th>\n",
       "    </tr>\n",
       "  </thead>\n",
       "  <tbody>\n",
       "    <tr>\n",
       "      <th>2</th>\n",
       "      <td>2</td>\n",
       "      <td>59.0</td>\n",
       "      <td>3050.0</td>\n",
       "      <td>33.0</td>\n",
       "      <td>13.0</td>\n",
       "      <td>33.0</td>\n",
       "      <td>borda da mata</td>\n",
       "      <td>MG</td>\n",
       "      <td>0</td>\n",
       "      <td>5</td>\n",
       "      <td>216.87</td>\n",
       "      <td>199.00</td>\n",
       "      <td>17.87</td>\n",
       "    </tr>\n",
       "    <tr>\n",
       "      <th>5</th>\n",
       "      <td>4</td>\n",
       "      <td>36.0</td>\n",
       "      <td>450.0</td>\n",
       "      <td>24.0</td>\n",
       "      <td>8.0</td>\n",
       "      <td>15.0</td>\n",
       "      <td>ribeirao preto</td>\n",
       "      <td>SP</td>\n",
       "      <td>1</td>\n",
       "      <td>1</td>\n",
       "      <td>34.59</td>\n",
       "      <td>21.90</td>\n",
       "      <td>12.69</td>\n",
       "    </tr>\n",
       "    <tr>\n",
       "      <th>8</th>\n",
       "      <td>3</td>\n",
       "      <td>59.0</td>\n",
       "      <td>2000.0</td>\n",
       "      <td>30.0</td>\n",
       "      <td>12.0</td>\n",
       "      <td>16.0</td>\n",
       "      <td>sao paulo</td>\n",
       "      <td>SP</td>\n",
       "      <td>0</td>\n",
       "      <td>3</td>\n",
       "      <td>157.60</td>\n",
       "      <td>145.95</td>\n",
       "      <td>11.65</td>\n",
       "    </tr>\n",
       "    <tr>\n",
       "      <th>10</th>\n",
       "      <td>3</td>\n",
       "      <td>57.0</td>\n",
       "      <td>950.0</td>\n",
       "      <td>35.0</td>\n",
       "      <td>25.0</td>\n",
       "      <td>20.0</td>\n",
       "      <td>santo andre</td>\n",
       "      <td>SP</td>\n",
       "      <td>0</td>\n",
       "      <td>3</td>\n",
       "      <td>68.87</td>\n",
       "      <td>59.99</td>\n",
       "      <td>8.88</td>\n",
       "    </tr>\n",
       "    <tr>\n",
       "      <th>12</th>\n",
       "      <td>0</td>\n",
       "      <td>54.0</td>\n",
       "      <td>1383.0</td>\n",
       "      <td>50.0</td>\n",
       "      <td>10.0</td>\n",
       "      <td>40.0</td>\n",
       "      <td>ibitinga</td>\n",
       "      <td>SP</td>\n",
       "      <td>0</td>\n",
       "      <td>4</td>\n",
       "      <td>97.32</td>\n",
       "      <td>74.00</td>\n",
       "      <td>23.32</td>\n",
       "    </tr>\n",
       "  </tbody>\n",
       "</table>\n",
       "</div>"
      ],
      "text/plain": [
       "    _product_category_name_  _product_name_lenght_  _product_weight_g_  \\\n",
       "2                         2                   59.0              3050.0   \n",
       "5                         4                   36.0               450.0   \n",
       "8                         3                   59.0              2000.0   \n",
       "10                        3                   57.0               950.0   \n",
       "12                        0                   54.0              1383.0   \n",
       "\n",
       "    _product_length_cm_  _product_height_cm_  _product_width_cm_  \\\n",
       "2                  33.0                 13.0                33.0   \n",
       "5                  24.0                  8.0                15.0   \n",
       "8                  30.0                 12.0                16.0   \n",
       "10                 35.0                 25.0                20.0   \n",
       "12                 50.0                 10.0                40.0   \n",
       "\n",
       "     _seller_city_ _seller_state_  _payment_type_  _payment_installments_  \\\n",
       "2    borda da mata             MG               0                       5   \n",
       "5   ribeirao preto             SP               1                       1   \n",
       "8        sao paulo             SP               0                       3   \n",
       "10     santo andre             SP               0                       3   \n",
       "12        ibitinga             SP               0                       4   \n",
       "\n",
       "    _payment_value_  _price_  _freight_value_  \n",
       "2            216.87   199.00            17.87  \n",
       "5             34.59    21.90            12.69  \n",
       "8            157.60   145.95            11.65  \n",
       "10            68.87    59.99             8.88  \n",
       "12            97.32    74.00            23.32  "
      ]
     },
     "execution_count": 21,
     "metadata": {},
     "output_type": "execute_result"
    }
   ],
   "source": [
    "prod.head()"
   ]
  },
  {
   "cell_type": "code",
   "execution_count": 22,
   "id": "cf747174",
   "metadata": {},
   "outputs": [
    {
     "data": {
      "text/html": [
       "<div>\n",
       "<style scoped>\n",
       "    .dataframe tbody tr th:only-of-type {\n",
       "        vertical-align: middle;\n",
       "    }\n",
       "\n",
       "    .dataframe tbody tr th {\n",
       "        vertical-align: top;\n",
       "    }\n",
       "\n",
       "    .dataframe thead th {\n",
       "        text-align: right;\n",
       "    }\n",
       "</style>\n",
       "<table border=\"1\" class=\"dataframe\">\n",
       "  <thead>\n",
       "    <tr style=\"text-align: right;\">\n",
       "      <th></th>\n",
       "      <th>_product_weight_g_</th>\n",
       "      <th>_product_length_cm_</th>\n",
       "      <th>_product_height_cm_</th>\n",
       "      <th>_product_width_cm_</th>\n",
       "      <th>_payment_installments_</th>\n",
       "      <th>_payment_value_</th>\n",
       "      <th>_price_</th>\n",
       "      <th>_freight_value_</th>\n",
       "    </tr>\n",
       "  </thead>\n",
       "  <tbody>\n",
       "    <tr>\n",
       "      <th>2</th>\n",
       "      <td>3050.0</td>\n",
       "      <td>33.0</td>\n",
       "      <td>13.0</td>\n",
       "      <td>33.0</td>\n",
       "      <td>5</td>\n",
       "      <td>216.87</td>\n",
       "      <td>199.00</td>\n",
       "      <td>17.87</td>\n",
       "    </tr>\n",
       "    <tr>\n",
       "      <th>5</th>\n",
       "      <td>450.0</td>\n",
       "      <td>24.0</td>\n",
       "      <td>8.0</td>\n",
       "      <td>15.0</td>\n",
       "      <td>1</td>\n",
       "      <td>34.59</td>\n",
       "      <td>21.90</td>\n",
       "      <td>12.69</td>\n",
       "    </tr>\n",
       "    <tr>\n",
       "      <th>8</th>\n",
       "      <td>2000.0</td>\n",
       "      <td>30.0</td>\n",
       "      <td>12.0</td>\n",
       "      <td>16.0</td>\n",
       "      <td>3</td>\n",
       "      <td>157.60</td>\n",
       "      <td>145.95</td>\n",
       "      <td>11.65</td>\n",
       "    </tr>\n",
       "    <tr>\n",
       "      <th>10</th>\n",
       "      <td>950.0</td>\n",
       "      <td>35.0</td>\n",
       "      <td>25.0</td>\n",
       "      <td>20.0</td>\n",
       "      <td>3</td>\n",
       "      <td>68.87</td>\n",
       "      <td>59.99</td>\n",
       "      <td>8.88</td>\n",
       "    </tr>\n",
       "    <tr>\n",
       "      <th>12</th>\n",
       "      <td>1383.0</td>\n",
       "      <td>50.0</td>\n",
       "      <td>10.0</td>\n",
       "      <td>40.0</td>\n",
       "      <td>4</td>\n",
       "      <td>97.32</td>\n",
       "      <td>74.00</td>\n",
       "      <td>23.32</td>\n",
       "    </tr>\n",
       "    <tr>\n",
       "      <th>...</th>\n",
       "      <td>...</td>\n",
       "      <td>...</td>\n",
       "      <td>...</td>\n",
       "      <td>...</td>\n",
       "      <td>...</td>\n",
       "      <td>...</td>\n",
       "      <td>...</td>\n",
       "      <td>...</td>\n",
       "    </tr>\n",
       "    <tr>\n",
       "      <th>71418</th>\n",
       "      <td>10150.0</td>\n",
       "      <td>89.0</td>\n",
       "      <td>15.0</td>\n",
       "      <td>40.0</td>\n",
       "      <td>1</td>\n",
       "      <td>343.40</td>\n",
       "      <td>299.99</td>\n",
       "      <td>43.41</td>\n",
       "    </tr>\n",
       "    <tr>\n",
       "      <th>71419</th>\n",
       "      <td>8950.0</td>\n",
       "      <td>45.0</td>\n",
       "      <td>26.0</td>\n",
       "      <td>38.0</td>\n",
       "      <td>1</td>\n",
       "      <td>386.53</td>\n",
       "      <td>350.00</td>\n",
       "      <td>36.53</td>\n",
       "    </tr>\n",
       "    <tr>\n",
       "      <th>71420</th>\n",
       "      <td>967.0</td>\n",
       "      <td>21.0</td>\n",
       "      <td>24.0</td>\n",
       "      <td>19.0</td>\n",
       "      <td>3</td>\n",
       "      <td>116.85</td>\n",
       "      <td>99.90</td>\n",
       "      <td>16.95</td>\n",
       "    </tr>\n",
       "    <tr>\n",
       "      <th>71421</th>\n",
       "      <td>100.0</td>\n",
       "      <td>20.0</td>\n",
       "      <td>20.0</td>\n",
       "      <td>20.0</td>\n",
       "      <td>3</td>\n",
       "      <td>64.71</td>\n",
       "      <td>55.99</td>\n",
       "      <td>8.72</td>\n",
       "    </tr>\n",
       "    <tr>\n",
       "      <th>71422</th>\n",
       "      <td>600.0</td>\n",
       "      <td>30.0</td>\n",
       "      <td>3.0</td>\n",
       "      <td>19.0</td>\n",
       "      <td>1</td>\n",
       "      <td>55.79</td>\n",
       "      <td>43.00</td>\n",
       "      <td>12.79</td>\n",
       "    </tr>\n",
       "  </tbody>\n",
       "</table>\n",
       "<p>33309 rows × 8 columns</p>\n",
       "</div>"
      ],
      "text/plain": [
       "       _product_weight_g_  _product_length_cm_  _product_height_cm_  \\\n",
       "2                  3050.0                 33.0                 13.0   \n",
       "5                   450.0                 24.0                  8.0   \n",
       "8                  2000.0                 30.0                 12.0   \n",
       "10                  950.0                 35.0                 25.0   \n",
       "12                 1383.0                 50.0                 10.0   \n",
       "...                   ...                  ...                  ...   \n",
       "71418             10150.0                 89.0                 15.0   \n",
       "71419              8950.0                 45.0                 26.0   \n",
       "71420               967.0                 21.0                 24.0   \n",
       "71421               100.0                 20.0                 20.0   \n",
       "71422               600.0                 30.0                  3.0   \n",
       "\n",
       "       _product_width_cm_  _payment_installments_  _payment_value_  _price_  \\\n",
       "2                    33.0                       5           216.87   199.00   \n",
       "5                    15.0                       1            34.59    21.90   \n",
       "8                    16.0                       3           157.60   145.95   \n",
       "10                   20.0                       3            68.87    59.99   \n",
       "12                   40.0                       4            97.32    74.00   \n",
       "...                   ...                     ...              ...      ...   \n",
       "71418                40.0                       1           343.40   299.99   \n",
       "71419                38.0                       1           386.53   350.00   \n",
       "71420                19.0                       3           116.85    99.90   \n",
       "71421                20.0                       3            64.71    55.99   \n",
       "71422                19.0                       1            55.79    43.00   \n",
       "\n",
       "       _freight_value_  \n",
       "2                17.87  \n",
       "5                12.69  \n",
       "8                11.65  \n",
       "10                8.88  \n",
       "12               23.32  \n",
       "...                ...  \n",
       "71418            43.41  \n",
       "71419            36.53  \n",
       "71420            16.95  \n",
       "71421             8.72  \n",
       "71422            12.79  \n",
       "\n",
       "[33309 rows x 8 columns]"
      ]
     },
     "execution_count": 22,
     "metadata": {},
     "output_type": "execute_result"
    }
   ],
   "source": [
    "col = [2,3,4,5,9,10,11,12]\n",
    "x = prod.iloc[:,col]\n",
    "x"
   ]
  },
  {
   "cell_type": "code",
   "execution_count": 23,
   "id": "6e6078e1",
   "metadata": {},
   "outputs": [
    {
     "data": {
      "text/plain": [
       "_product_weight_g_        1.164391e+07\n",
       "_product_length_cm_       2.659069e+02\n",
       "_product_height_cm_       1.476913e+02\n",
       "_product_width_cm_        1.234500e+02\n",
       "_payment_installments_    7.645642e+00\n",
       "_payment_value_           4.088484e+04\n",
       "_price_                   2.103081e+04\n",
       "_freight_value_           2.176742e+02\n",
       "dtype: float64"
      ]
     },
     "execution_count": 23,
     "metadata": {},
     "output_type": "execute_result"
    }
   ],
   "source": [
    "x.var()"
   ]
  },
  {
   "cell_type": "code",
   "execution_count": 24,
   "id": "fca37ee9",
   "metadata": {},
   "outputs": [],
   "source": [
    "#from sklearn.preprocessing import StandardScaler\n",
    "#scaler = StandardScaler()\n",
    "#x = scaler.fit_transform(x)"
   ]
  },
  {
   "cell_type": "code",
   "execution_count": 25,
   "id": "3cc6dc00",
   "metadata": {},
   "outputs": [
    {
     "name": "stdout",
     "output_type": "stream",
     "text": [
      "(33309, 8)\n",
      "(33309,)\n"
     ]
    }
   ],
   "source": [
    "print(x.shape)\n",
    "print(y.shape)"
   ]
  },
  {
   "cell_type": "code",
   "execution_count": 26,
   "id": "cb40b142",
   "metadata": {},
   "outputs": [],
   "source": [
    "from sklearn.neighbors import KNeighborsClassifier"
   ]
  },
  {
   "cell_type": "code",
   "execution_count": 27,
   "id": "c9eb64cd",
   "metadata": {},
   "outputs": [
    {
     "name": "stdout",
     "output_type": "stream",
     "text": [
      "(26647, 8)\n"
     ]
    }
   ],
   "source": [
    "from sklearn.model_selection import train_test_split\n",
    "x_train,x_test,y_train,y_test = train_test_split(x,y,test_size=0.2, random_state= 5)\n",
    "print(x_train.shape)"
   ]
  },
  {
   "cell_type": "code",
   "execution_count": 28,
   "id": "bf219a66",
   "metadata": {},
   "outputs": [],
   "source": [
    "from sklearn.preprocessing import RobustScaler\n",
    "sc = RobustScaler()\n",
    "x_train= sc.fit_transform(x_train)"
   ]
  },
  {
   "cell_type": "code",
   "execution_count": 29,
   "id": "89eb2a38",
   "metadata": {},
   "outputs": [],
   "source": [
    "x_test = sc.transform(x_test)"
   ]
  },
  {
   "cell_type": "code",
   "execution_count": 30,
   "id": "789542e4",
   "metadata": {},
   "outputs": [],
   "source": [
    "#from imblearn.under_sampling import RandomUnderSampler \n",
    "    #Define the RandomUnderSampler object\n",
    "#rus = RandomUnderSampler(random_state=0)\n",
    "\n",
    "# Fit the RandomUnderSampler to the training data\n",
    "#x_resampled, y_resampled = rus.fit_resample(x_train, y_train)"
   ]
  },
  {
   "cell_type": "code",
   "execution_count": 31,
   "id": "88ecd5c9",
   "metadata": {},
   "outputs": [],
   "source": [
    "#from imblearn.over_sampling import RandomOverSampler\n",
    "\n",
    "# Define the RandomOverSampler object\n",
    "#ros = RandomOverSampler(random_state=0)\n",
    "\n",
    "# Fit the RandomOverSampler to the training data\n",
    "#x_resampled, y_resampled = ros.fit_resample(x_train, y_train)"
   ]
  },
  {
   "cell_type": "code",
   "execution_count": 32,
   "id": "a80971d2",
   "metadata": {},
   "outputs": [],
   "source": [
    "#y_resampled.value_counts()"
   ]
  },
  {
   "cell_type": "code",
   "execution_count": 33,
   "id": "d79b9d99",
   "metadata": {},
   "outputs": [],
   "source": [
    "from sklearn.feature_selection import VarianceThreshold"
   ]
  },
  {
   "cell_type": "code",
   "execution_count": 34,
   "id": "af142795",
   "metadata": {},
   "outputs": [
    {
     "name": "stdout",
     "output_type": "stream",
     "text": [
      "sélection de variable:  [ True  True  True  True  True  True  True  True]\n",
      "variable sélectionnées:  ['_product_weight_g_', '_product_length_cm_', '_product_height_cm_', '_product_width_cm_', '_payment_installments_', '_payment_value_', '_price_', '_freight_value_']\n",
      "variable suprrimées:  []\n"
     ]
    }
   ],
   "source": [
    "sel = VarianceThreshold(threshold=(0.5))\n",
    "sel.fit(x_train)\n",
    "\n",
    "print(\"sélection de variable: \", sel.get_support())\n",
    "print(\"variable sélectionnées: \", list(x.columns[sel.get_support()]))\n",
    "print(\"variable suprrimées: \", list(x.columns[~sel.get_support()]))"
   ]
  },
  {
   "cell_type": "code",
   "execution_count": 35,
   "id": "1440955d",
   "metadata": {},
   "outputs": [
    {
     "name": "stdout",
     "output_type": "stream",
     "text": [
      "1.0\n",
      "0.7349144401080756\n"
     ]
    }
   ],
   "source": [
    "KNN = KNeighborsClassifier(n_neighbors= 1)\n",
    "KNN.fit(x_train,y_train)\n",
    "print(KNN.score(x_train,y_train))\n",
    "print(KNN.score(x_test,y_test))"
   ]
  },
  {
   "cell_type": "code",
   "execution_count": 36,
   "id": "01538252",
   "metadata": {},
   "outputs": [],
   "source": [
    "#KNN = KNeighborsClassifier(n_neighbors= 1)\n",
    "#KNN.fit(x_resampled,y_resampled)"
   ]
  },
  {
   "cell_type": "code",
   "execution_count": 37,
   "id": "62d98b29",
   "metadata": {},
   "outputs": [
    {
     "name": "stdout",
     "output_type": "stream",
     "text": [
      "[4 4 2 ... 0 4 0]\n",
      "22580    4\n",
      "27033    4\n",
      "71367    2\n",
      "14229    3\n",
      "29542    5\n",
      "        ..\n",
      "60718    5\n",
      "44744    5\n",
      "19244    0\n",
      "47706    4\n",
      "9553     0\n",
      "Name: _product_category_name_, Length: 6662, dtype: int64\n"
     ]
    }
   ],
   "source": [
    "y_pred = KNN.predict(x_test)\n",
    "print(y_pred)\n",
    "print(y_test)"
   ]
  },
  {
   "cell_type": "code",
   "execution_count": 38,
   "id": "c2d1ff4e",
   "metadata": {},
   "outputs": [
    {
     "name": "stdout",
     "output_type": "stream",
     "text": [
      "0.7349144401080756\n",
      "1.0\n"
     ]
    }
   ],
   "source": [
    "print(KNN.score(x_test,y_test)) \n",
    "print(KNN.score(x_train,y_train)) "
   ]
  },
  {
   "cell_type": "code",
   "execution_count": 39,
   "id": "53e84429",
   "metadata": {},
   "outputs": [],
   "source": [
    "#print(KNN.score(x_test,y_test)) \n",
    "#print(KNN.score(x_resampled,y_resampled)) "
   ]
  },
  {
   "cell_type": "code",
   "execution_count": 40,
   "id": "ef51fa98",
   "metadata": {},
   "outputs": [
    {
     "data": {
      "text/plain": [
       "array([0.65746022, 0.65520865, 0.65310718, 0.64860402, 0.66416454])"
      ]
     },
     "execution_count": 40,
     "metadata": {},
     "output_type": "execute_result"
    }
   ],
   "source": [
    "from sklearn.model_selection import cross_val_score\n",
    "from sklearn.neighbors import KNeighborsClassifier\n",
    "\n",
    "cross_val_score(KNeighborsClassifier(n_neighbors=3),x,y, cv = 5)"
   ]
  },
  {
   "cell_type": "code",
   "execution_count": 41,
   "id": "f6dfdbe0",
   "metadata": {},
   "outputs": [
    {
     "data": {
      "text/plain": [
       "0.6557089211810224"
      ]
     },
     "execution_count": 41,
     "metadata": {},
     "output_type": "execute_result"
    }
   ],
   "source": [
    "cross_val_score(KNeighborsClassifier(n_neighbors=3),x,y, cv = 5).mean()"
   ]
  },
  {
   "cell_type": "code",
   "execution_count": 42,
   "id": "21319dba",
   "metadata": {},
   "outputs": [
    {
     "name": "stdout",
     "output_type": "stream",
     "text": [
      "1 : 0.6981598258249322\n",
      "2 : 0.6661864761570901\n",
      "3 : 0.6557089211810224\n",
      "4 : 0.64306961878269\n",
      "5 : 0.6330123264636844\n",
      "6 : 0.6246963566584884\n",
      "7 : 0.6166804888327999\n",
      "8 : 0.6103759270131939\n",
      "9 : 0.6056023963809646\n",
      "10 : 0.6002284544684958\n",
      "11 : 0.5940739751875255\n",
      "12 : 0.5904413332539503\n",
      "13 : 0.5848873283509837\n",
      "14 : 0.5821253138719398\n",
      "15 : 0.5769915851469846\n",
      "16 : 0.574049376974932\n",
      "17 : 0.5709871613627512\n",
      "18 : 0.5690356241412224\n",
      "19 : 0.5657632569190867\n",
      "20 : 0.5613499784633811\n"
     ]
    }
   ],
   "source": [
    "val_score = []\n",
    "k = np.arange(1,21)\n",
    "for i in k:\n",
    "    score = cross_val_score(KNeighborsClassifier(n_neighbors=i),x,y, cv = 5)\n",
    "    val_score.append(score.mean())\n",
    "    print(i, ':', score.mean())"
   ]
  },
  {
   "cell_type": "code",
   "execution_count": 43,
   "id": "005ac299",
   "metadata": {},
   "outputs": [
    {
     "name": "stdout",
     "output_type": "stream",
     "text": [
      "meilleur valeur=  1\n"
     ]
    },
    {
     "data": {
      "image/png": "[encoded data removed]",
      "text/plain": [
       "<Figure size 432x288 with 1 Axes>"
      ]
     },
     "metadata": {
      "needs_background": "light"
     },
     "output_type": "display_data"
    }
   ],
   "source": [
    "import matplotlib.pyplot as plt\n",
    "plt.plot(k+1, val_score)\n",
    "print('meilleur valeur= ',np.argmax(val_score)+1)"
   ]
  },
  {
   "cell_type": "code",
   "execution_count": 44,
   "id": "884c9021",
   "metadata": {},
   "outputs": [
    {
     "name": "stdout",
     "output_type": "stream",
     "text": [
      "(20, 5)\n",
      "(20, 5)\n"
     ]
    }
   ],
   "source": [
    "from sklearn.model_selection import validation_curve\n",
    "model=KNeighborsClassifier()\n",
    "K=np.arange(1,21)\n",
    "train_score,val_score=validation_curve(model,x_train,y_train,param_name='n_neighbors',param_range=K,cv=5)\n",
    "print(val_score.shape)\n",
    "print(train_score.shape)"
   ]
  },
  {
   "cell_type": "code",
   "execution_count": 45,
   "id": "81ee43d8",
   "metadata": {},
   "outputs": [
    {
     "data": {
      "text/plain": [
       "array([0.70409405, 0.65504536, 0.64506292, 0.63534336, 0.62855079,\n",
       "       0.62051993, 0.61935645, 0.61425259, 0.61102514, 0.60700975,\n",
       "       0.60502083, 0.60168086, 0.59698991, 0.59458807, 0.59184855,\n",
       "       0.5881709 , 0.58790834, 0.58644468, 0.58389278, 0.58239166])"
      ]
     },
     "execution_count": 45,
     "metadata": {},
     "output_type": "execute_result"
    }
   ],
   "source": [
    "val_score.mean(axis=1)"
   ]
  },
  {
   "cell_type": "code",
   "execution_count": 46,
   "id": "c1b19b3f",
   "metadata": {},
   "outputs": [
    {
     "data": {
      "text/plain": [
       "array([1.        , 0.84957031, 0.81406912, 0.77499341, 0.75075052,\n",
       "       0.72881561, 0.71384204, 0.69861522, 0.68720679, 0.67795625,\n",
       "       0.66975645, 0.66332044, 0.65715651, 0.65153677, 0.64572936,\n",
       "       0.64151686, 0.63741696, 0.63327014, 0.62822266, 0.62456369])"
      ]
     },
     "execution_count": 46,
     "metadata": {},
     "output_type": "execute_result"
    }
   ],
   "source": [
    "train_score.mean(axis=1)"
   ]
  },
  {
   "cell_type": "code",
   "execution_count": 47,
   "id": "8114dc14",
   "metadata": {},
   "outputs": [
    {
     "data": {
      "image/png": "[encoded data removed]",
      "text/plain": [
       "<Figure size 432x288 with 1 Axes>"
      ]
     },
     "metadata": {
      "needs_background": "light"
     },
     "output_type": "display_data"
    }
   ],
   "source": [
    "import matplotlib.pyplot as plt\n",
    "plt.plot(K,val_score.mean(axis=1),label='val score')\n",
    "plt.plot(K,train_score.mean(axis=1),label='train score')\n",
    "plt.legend()\n",
    "plt.show()"
   ]
  },
  {
   "cell_type": "code",
   "execution_count": 48,
   "id": "6a310516",
   "metadata": {},
   "outputs": [],
   "source": [
    "from sklearn.model_selection import RandomizedSearchCV"
   ]
  },
  {
   "cell_type": "code",
   "execution_count": 49,
   "id": "1522fbc0",
   "metadata": {},
   "outputs": [],
   "source": [
    "K_range=list(range(1,31))\n",
    "weight_option=['uniform','distance']\n",
    "metric_distance=['euclidean','manhattan','minkowski']"
   ]
  },
  {
   "cell_type": "code",
   "execution_count": 50,
   "id": "a081701d",
   "metadata": {},
   "outputs": [],
   "source": [
    "param_grid=dict(n_neighbors=K_range,weights=weight_option,metric=metric_distance)"
   ]
  },
  {
   "cell_type": "code",
   "execution_count": 51,
   "id": "c07ab48d",
   "metadata": {},
   "outputs": [
    {
     "data": {
      "text/plain": [
       "RandomizedSearchCV(cv=5, estimator=KNeighborsClassifier(),\n",
       "                   param_distributions={'metric': ['euclidean', 'manhattan',\n",
       "                                                   'minkowski'],\n",
       "                                        'n_neighbors': [1, 2, 3, 4, 5, 6, 7, 8,\n",
       "                                                        9, 10, 11, 12, 13, 14,\n",
       "                                                        15, 16, 17, 18, 19, 20,\n",
       "                                                        21, 22, 23, 24, 25, 26,\n",
       "                                                        27, 28, 29, 30],\n",
       "                                        'weights': ['uniform', 'distance']})"
      ]
     },
     "execution_count": 51,
     "metadata": {},
     "output_type": "execute_result"
    }
   ],
   "source": [
    "rand=RandomizedSearchCV(KNeighborsClassifier(),param_grid,cv=5)\n",
    "rand.fit(x_train,y_train)"
   ]
  },
  {
   "cell_type": "code",
   "execution_count": 52,
   "id": "7affaea7",
   "metadata": {},
   "outputs": [
    {
     "name": "stdout",
     "output_type": "stream",
     "text": [
      "0.7613984650521044\n",
      "{'weights': 'distance', 'n_neighbors': 4, 'metric': 'manhattan'}\n"
     ]
    }
   ],
   "source": [
    "print(rand.best_score_)\n",
    "print(rand.best_params_)"
   ]
  },
  {
   "cell_type": "code",
   "execution_count": 53,
   "id": "ee674e60",
   "metadata": {},
   "outputs": [
    {
     "data": {
      "text/plain": [
       "0.7788952266586611"
      ]
     },
     "execution_count": 53,
     "metadata": {},
     "output_type": "execute_result"
    }
   ],
   "source": [
    "Final_model_new=rand.best_estimator_\n",
    "Final_model_new.fit(x_train,y_train)\n",
    "Final_model_new.score(x_test,y_test)"
   ]
  },
  {
   "cell_type": "code",
   "execution_count": 54,
   "id": "4afd0a9f",
   "metadata": {},
   "outputs": [
    {
     "name": "stderr",
     "output_type": "stream",
     "text": [
      "C:\\Users\\chleg\\anaconda3\\lib\\site-packages\\sklearn\\utils\\deprecation.py:87: FutureWarning: Function plot_confusion_matrix is deprecated; Function `plot_confusion_matrix` is deprecated in 1.0 and will be removed in 1.2. Use one of the class methods: ConfusionMatrixDisplay.from_predictions or ConfusionMatrixDisplay.from_estimator.\n",
      "  warnings.warn(msg, category=FutureWarning)\n"
     ]
    },
    {
     "ename": "ValueError",
     "evalue": "The number of FixedLocator locations (6), usually from a call to set_ticks, does not match the number of ticklabels (33309).",
     "output_type": "error",
     "traceback": [
      "\u001b[1;31m---------------------------------------------------------------------------\u001b[0m",
      "\u001b[1;31mValueError\u001b[0m                                Traceback (most recent call last)",
      "Input \u001b[1;32mIn [54]\u001b[0m, in \u001b[0;36m<cell line: 2>\u001b[1;34m()\u001b[0m\n\u001b[0;32m      1\u001b[0m \u001b[38;5;28;01mfrom\u001b[39;00m \u001b[38;5;21;01msklearn\u001b[39;00m\u001b[38;5;21;01m.\u001b[39;00m\u001b[38;5;21;01mmetrics\u001b[39;00m \u001b[38;5;28;01mimport\u001b[39;00m plot_confusion_matrix\n\u001b[1;32m----> 2\u001b[0m \u001b[43mplot_confusion_matrix\u001b[49m\u001b[43m(\u001b[49m\u001b[43mFinal_model_new\u001b[49m\u001b[43m,\u001b[49m\u001b[43m \u001b[49m\u001b[43mx_test\u001b[49m\u001b[43m,\u001b[49m\u001b[43m \u001b[49m\u001b[43my_test\u001b[49m\u001b[43m,\u001b[49m\u001b[43mdisplay_labels\u001b[49m\u001b[38;5;241;43m=\u001b[39;49m\u001b[43my\u001b[49m\u001b[43m,\u001b[49m\u001b[43mcmap\u001b[49m\u001b[38;5;241;43m=\u001b[39;49m\u001b[43mplt\u001b[49m\u001b[38;5;241;43m.\u001b[39;49m\u001b[43mcm\u001b[49m\u001b[38;5;241;43m.\u001b[39;49m\u001b[43mBlues\u001b[49m\u001b[43m)\u001b[49m  \n\u001b[0;32m      3\u001b[0m plt\u001b[38;5;241m.\u001b[39mshow()\n",
      "File \u001b[1;32m~\\anaconda3\\lib\\site-packages\\sklearn\\utils\\deprecation.py:88\u001b[0m, in \u001b[0;36mdeprecated._decorate_fun.<locals>.wrapped\u001b[1;34m(*args, **kwargs)\u001b[0m\n\u001b[0;32m     85\u001b[0m \u001b[38;5;129m@functools\u001b[39m\u001b[38;5;241m.\u001b[39mwraps(fun)\n\u001b[0;32m     86\u001b[0m \u001b[38;5;28;01mdef\u001b[39;00m \u001b[38;5;21mwrapped\u001b[39m(\u001b[38;5;241m*\u001b[39margs, \u001b[38;5;241m*\u001b[39m\u001b[38;5;241m*\u001b[39mkwargs):\n\u001b[0;32m     87\u001b[0m     warnings\u001b[38;5;241m.\u001b[39mwarn(msg, category\u001b[38;5;241m=\u001b[39m\u001b[38;5;167;01mFutureWarning\u001b[39;00m)\n\u001b[1;32m---> 88\u001b[0m     \u001b[38;5;28;01mreturn\u001b[39;00m fun(\u001b[38;5;241m*\u001b[39margs, \u001b[38;5;241m*\u001b[39m\u001b[38;5;241m*\u001b[39mkwargs)\n",
      "File \u001b[1;32m~\\anaconda3\\lib\\site-packages\\sklearn\\metrics\\_plot\\confusion_matrix.py:577\u001b[0m, in \u001b[0;36mplot_confusion_matrix\u001b[1;34m(estimator, X, y_true, labels, sample_weight, normalize, display_labels, include_values, xticks_rotation, values_format, cmap, ax, colorbar)\u001b[0m\n\u001b[0;32m    574\u001b[0m         display_labels \u001b[38;5;241m=\u001b[39m labels\n\u001b[0;32m    576\u001b[0m disp \u001b[38;5;241m=\u001b[39m ConfusionMatrixDisplay(confusion_matrix\u001b[38;5;241m=\u001b[39mcm, display_labels\u001b[38;5;241m=\u001b[39mdisplay_labels)\n\u001b[1;32m--> 577\u001b[0m \u001b[38;5;28;01mreturn\u001b[39;00m \u001b[43mdisp\u001b[49m\u001b[38;5;241;43m.\u001b[39;49m\u001b[43mplot\u001b[49m\u001b[43m(\u001b[49m\n\u001b[0;32m    578\u001b[0m \u001b[43m    \u001b[49m\u001b[43minclude_values\u001b[49m\u001b[38;5;241;43m=\u001b[39;49m\u001b[43minclude_values\u001b[49m\u001b[43m,\u001b[49m\n\u001b[0;32m    579\u001b[0m \u001b[43m    \u001b[49m\u001b[43mcmap\u001b[49m\u001b[38;5;241;43m=\u001b[39;49m\u001b[43mcmap\u001b[49m\u001b[43m,\u001b[49m\n\u001b[0;32m    580\u001b[0m \u001b[43m    \u001b[49m\u001b[43max\u001b[49m\u001b[38;5;241;43m=\u001b[39;49m\u001b[43max\u001b[49m\u001b[43m,\u001b[49m\n\u001b[0;32m    581\u001b[0m \u001b[43m    \u001b[49m\u001b[43mxticks_rotation\u001b[49m\u001b[38;5;241;43m=\u001b[39;49m\u001b[43mxticks_rotation\u001b[49m\u001b[43m,\u001b[49m\n\u001b[0;32m    582\u001b[0m \u001b[43m    \u001b[49m\u001b[43mvalues_format\u001b[49m\u001b[38;5;241;43m=\u001b[39;49m\u001b[43mvalues_format\u001b[49m\u001b[43m,\u001b[49m\n\u001b[0;32m    583\u001b[0m \u001b[43m    \u001b[49m\u001b[43mcolorbar\u001b[49m\u001b[38;5;241;43m=\u001b[39;49m\u001b[43mcolorbar\u001b[49m\u001b[43m,\u001b[49m\n\u001b[0;32m    584\u001b[0m \u001b[43m\u001b[49m\u001b[43m)\u001b[49m\n",
      "File \u001b[1;32m~\\anaconda3\\lib\\site-packages\\sklearn\\metrics\\_plot\\confusion_matrix.py:163\u001b[0m, in \u001b[0;36mConfusionMatrixDisplay.plot\u001b[1;34m(self, include_values, cmap, xticks_rotation, values_format, ax, colorbar)\u001b[0m\n\u001b[0;32m    161\u001b[0m \u001b[38;5;28;01mif\u001b[39;00m colorbar:\n\u001b[0;32m    162\u001b[0m     fig\u001b[38;5;241m.\u001b[39mcolorbar(\u001b[38;5;28mself\u001b[39m\u001b[38;5;241m.\u001b[39mim_, ax\u001b[38;5;241m=\u001b[39max)\n\u001b[1;32m--> 163\u001b[0m \u001b[43max\u001b[49m\u001b[38;5;241;43m.\u001b[39;49m\u001b[43mset\u001b[49m\u001b[43m(\u001b[49m\n\u001b[0;32m    164\u001b[0m \u001b[43m    \u001b[49m\u001b[43mxticks\u001b[49m\u001b[38;5;241;43m=\u001b[39;49m\u001b[43mnp\u001b[49m\u001b[38;5;241;43m.\u001b[39;49m\u001b[43marange\u001b[49m\u001b[43m(\u001b[49m\u001b[43mn_classes\u001b[49m\u001b[43m)\u001b[49m\u001b[43m,\u001b[49m\n\u001b[0;32m    165\u001b[0m \u001b[43m    \u001b[49m\u001b[43myticks\u001b[49m\u001b[38;5;241;43m=\u001b[39;49m\u001b[43mnp\u001b[49m\u001b[38;5;241;43m.\u001b[39;49m\u001b[43marange\u001b[49m\u001b[43m(\u001b[49m\u001b[43mn_classes\u001b[49m\u001b[43m)\u001b[49m\u001b[43m,\u001b[49m\n\u001b[0;32m    166\u001b[0m \u001b[43m    \u001b[49m\u001b[43mxticklabels\u001b[49m\u001b[38;5;241;43m=\u001b[39;49m\u001b[43mdisplay_labels\u001b[49m\u001b[43m,\u001b[49m\n\u001b[0;32m    167\u001b[0m \u001b[43m    \u001b[49m\u001b[43myticklabels\u001b[49m\u001b[38;5;241;43m=\u001b[39;49m\u001b[43mdisplay_labels\u001b[49m\u001b[43m,\u001b[49m\n\u001b[0;32m    168\u001b[0m \u001b[43m    \u001b[49m\u001b[43mylabel\u001b[49m\u001b[38;5;241;43m=\u001b[39;49m\u001b[38;5;124;43m\"\u001b[39;49m\u001b[38;5;124;43mTrue label\u001b[39;49m\u001b[38;5;124;43m\"\u001b[39;49m\u001b[43m,\u001b[49m\n\u001b[0;32m    169\u001b[0m \u001b[43m    \u001b[49m\u001b[43mxlabel\u001b[49m\u001b[38;5;241;43m=\u001b[39;49m\u001b[38;5;124;43m\"\u001b[39;49m\u001b[38;5;124;43mPredicted label\u001b[39;49m\u001b[38;5;124;43m\"\u001b[39;49m\u001b[43m,\u001b[49m\n\u001b[0;32m    170\u001b[0m \u001b[43m\u001b[49m\u001b[43m)\u001b[49m\n\u001b[0;32m    172\u001b[0m ax\u001b[38;5;241m.\u001b[39mset_ylim((n_classes \u001b[38;5;241m-\u001b[39m \u001b[38;5;241m0.5\u001b[39m, \u001b[38;5;241m-\u001b[39m\u001b[38;5;241m0.5\u001b[39m))\n\u001b[0;32m    173\u001b[0m plt\u001b[38;5;241m.\u001b[39msetp(ax\u001b[38;5;241m.\u001b[39mget_xticklabels(), rotation\u001b[38;5;241m=\u001b[39mxticks_rotation)\n",
      "File \u001b[1;32m~\\anaconda3\\lib\\site-packages\\matplotlib\\artist.py:116\u001b[0m, in \u001b[0;36mArtist.__init_subclass__.<locals>.<lambda>\u001b[1;34m(self, **kwargs)\u001b[0m\n\u001b[0;32m    108\u001b[0m \u001b[38;5;28;01mif\u001b[39;00m \u001b[38;5;129;01mnot\u001b[39;00m \u001b[38;5;28mhasattr\u001b[39m(\u001b[38;5;28mcls\u001b[39m\u001b[38;5;241m.\u001b[39mset, \u001b[38;5;124m'\u001b[39m\u001b[38;5;124m_autogenerated_signature\u001b[39m\u001b[38;5;124m'\u001b[39m):\n\u001b[0;32m    109\u001b[0m     \u001b[38;5;66;03m# Don't overwrite cls.set if the subclass or one of its parents\u001b[39;00m\n\u001b[0;32m    110\u001b[0m     \u001b[38;5;66;03m# has defined a set method set itself.\u001b[39;00m\n\u001b[0;32m    111\u001b[0m     \u001b[38;5;66;03m# If there was no explicit definition, cls.set is inherited from\u001b[39;00m\n\u001b[0;32m    112\u001b[0m     \u001b[38;5;66;03m# the hierarchy of auto-generated set methods, which hold the\u001b[39;00m\n\u001b[0;32m    113\u001b[0m     \u001b[38;5;66;03m# flag _autogenerated_signature.\u001b[39;00m\n\u001b[0;32m    114\u001b[0m     \u001b[38;5;28;01mreturn\u001b[39;00m\n\u001b[1;32m--> 116\u001b[0m \u001b[38;5;28mcls\u001b[39m\u001b[38;5;241m.\u001b[39mset \u001b[38;5;241m=\u001b[39m \u001b[38;5;28;01mlambda\u001b[39;00m \u001b[38;5;28mself\u001b[39m, \u001b[38;5;241m*\u001b[39m\u001b[38;5;241m*\u001b[39mkwargs: Artist\u001b[38;5;241m.\u001b[39mset(\u001b[38;5;28mself\u001b[39m, \u001b[38;5;241m*\u001b[39m\u001b[38;5;241m*\u001b[39mkwargs)\n\u001b[0;32m    117\u001b[0m \u001b[38;5;28mcls\u001b[39m\u001b[38;5;241m.\u001b[39mset\u001b[38;5;241m.\u001b[39m\u001b[38;5;18m__name__\u001b[39m \u001b[38;5;241m=\u001b[39m \u001b[38;5;124m\"\u001b[39m\u001b[38;5;124mset\u001b[39m\u001b[38;5;124m\"\u001b[39m\n\u001b[0;32m    118\u001b[0m \u001b[38;5;28mcls\u001b[39m\u001b[38;5;241m.\u001b[39mset\u001b[38;5;241m.\u001b[39m\u001b[38;5;18m__qualname__\u001b[39m \u001b[38;5;241m=\u001b[39m \u001b[38;5;124mf\u001b[39m\u001b[38;5;124m\"\u001b[39m\u001b[38;5;132;01m{\u001b[39;00m\u001b[38;5;28mcls\u001b[39m\u001b[38;5;241m.\u001b[39m\u001b[38;5;18m__qualname__\u001b[39m\u001b[38;5;132;01m}\u001b[39;00m\u001b[38;5;124m.set\u001b[39m\u001b[38;5;124m\"\u001b[39m\n",
      "File \u001b[1;32m~\\anaconda3\\lib\\site-packages\\matplotlib\\artist.py:1164\u001b[0m, in \u001b[0;36mArtist.set\u001b[1;34m(self, **kwargs)\u001b[0m\n\u001b[0;32m   1159\u001b[0m \u001b[38;5;28;01mdef\u001b[39;00m \u001b[38;5;21mset\u001b[39m(\u001b[38;5;28mself\u001b[39m, \u001b[38;5;241m*\u001b[39m\u001b[38;5;241m*\u001b[39mkwargs):\n\u001b[0;32m   1160\u001b[0m     \u001b[38;5;66;03m# docstring and signature are auto-generated via\u001b[39;00m\n\u001b[0;32m   1161\u001b[0m     \u001b[38;5;66;03m# Artist._update_set_signature_and_docstring() at the end of the\u001b[39;00m\n\u001b[0;32m   1162\u001b[0m     \u001b[38;5;66;03m# module.\u001b[39;00m\n\u001b[0;32m   1163\u001b[0m     kwargs \u001b[38;5;241m=\u001b[39m cbook\u001b[38;5;241m.\u001b[39mnormalize_kwargs(kwargs, \u001b[38;5;28mself\u001b[39m)\n\u001b[1;32m-> 1164\u001b[0m     \u001b[38;5;28;01mreturn\u001b[39;00m \u001b[38;5;28;43mself\u001b[39;49m\u001b[38;5;241;43m.\u001b[39;49m\u001b[43mupdate\u001b[49m\u001b[43m(\u001b[49m\u001b[43mkwargs\u001b[49m\u001b[43m)\u001b[49m\n",
      "File \u001b[1;32m~\\anaconda3\\lib\\site-packages\\matplotlib\\artist.py:1066\u001b[0m, in \u001b[0;36mArtist.update\u001b[1;34m(self, props)\u001b[0m\n\u001b[0;32m   1063\u001b[0m             \u001b[38;5;28;01mif\u001b[39;00m \u001b[38;5;129;01mnot\u001b[39;00m callable(func):\n\u001b[0;32m   1064\u001b[0m                 \u001b[38;5;28;01mraise\u001b[39;00m \u001b[38;5;167;01mAttributeError\u001b[39;00m(\u001b[38;5;124mf\u001b[39m\u001b[38;5;124m\"\u001b[39m\u001b[38;5;132;01m{\u001b[39;00m\u001b[38;5;28mtype\u001b[39m(\u001b[38;5;28mself\u001b[39m)\u001b[38;5;241m.\u001b[39m\u001b[38;5;18m__name__\u001b[39m\u001b[38;5;132;01m!r}\u001b[39;00m\u001b[38;5;124m object \u001b[39m\u001b[38;5;124m\"\u001b[39m\n\u001b[0;32m   1065\u001b[0m                                      \u001b[38;5;124mf\u001b[39m\u001b[38;5;124m\"\u001b[39m\u001b[38;5;124mhas no property \u001b[39m\u001b[38;5;132;01m{\u001b[39;00mk\u001b[38;5;132;01m!r}\u001b[39;00m\u001b[38;5;124m\"\u001b[39m)\n\u001b[1;32m-> 1066\u001b[0m             ret\u001b[38;5;241m.\u001b[39mappend(\u001b[43mfunc\u001b[49m\u001b[43m(\u001b[49m\u001b[43mv\u001b[49m\u001b[43m)\u001b[49m)\n\u001b[0;32m   1067\u001b[0m \u001b[38;5;28;01mif\u001b[39;00m ret:\n\u001b[0;32m   1068\u001b[0m     \u001b[38;5;28mself\u001b[39m\u001b[38;5;241m.\u001b[39mpchanged()\n",
      "File \u001b[1;32m~\\anaconda3\\lib\\site-packages\\matplotlib\\axes\\_base.py:75\u001b[0m, in \u001b[0;36m_axis_method_wrapper.__set_name__.<locals>.wrapper\u001b[1;34m(self, *args, **kwargs)\u001b[0m\n\u001b[0;32m     74\u001b[0m \u001b[38;5;28;01mdef\u001b[39;00m \u001b[38;5;21mwrapper\u001b[39m(\u001b[38;5;28mself\u001b[39m, \u001b[38;5;241m*\u001b[39margs, \u001b[38;5;241m*\u001b[39m\u001b[38;5;241m*\u001b[39mkwargs):\n\u001b[1;32m---> 75\u001b[0m     \u001b[38;5;28;01mreturn\u001b[39;00m get_method(\u001b[38;5;28mself\u001b[39m)(\u001b[38;5;241m*\u001b[39margs, \u001b[38;5;241m*\u001b[39m\u001b[38;5;241m*\u001b[39mkwargs)\n",
      "File \u001b[1;32m~\\anaconda3\\lib\\site-packages\\matplotlib\\axis.py:1798\u001b[0m, in \u001b[0;36mAxis._set_ticklabels\u001b[1;34m(self, labels, fontdict, minor, **kwargs)\u001b[0m\n\u001b[0;32m   1796\u001b[0m \u001b[38;5;28;01mif\u001b[39;00m fontdict \u001b[38;5;129;01mis\u001b[39;00m \u001b[38;5;129;01mnot\u001b[39;00m \u001b[38;5;28;01mNone\u001b[39;00m:\n\u001b[0;32m   1797\u001b[0m     kwargs\u001b[38;5;241m.\u001b[39mupdate(fontdict)\n\u001b[1;32m-> 1798\u001b[0m \u001b[38;5;28;01mreturn\u001b[39;00m \u001b[38;5;28mself\u001b[39m\u001b[38;5;241m.\u001b[39mset_ticklabels(labels, minor\u001b[38;5;241m=\u001b[39mminor, \u001b[38;5;241m*\u001b[39m\u001b[38;5;241m*\u001b[39mkwargs)\n",
      "File \u001b[1;32m~\\anaconda3\\lib\\site-packages\\matplotlib\\axis.py:1720\u001b[0m, in \u001b[0;36mAxis.set_ticklabels\u001b[1;34m(self, ticklabels, minor, **kwargs)\u001b[0m\n\u001b[0;32m   1716\u001b[0m \u001b[38;5;28;01mif\u001b[39;00m \u001b[38;5;28misinstance\u001b[39m(locator, mticker\u001b[38;5;241m.\u001b[39mFixedLocator):\n\u001b[0;32m   1717\u001b[0m     \u001b[38;5;66;03m# Passing [] as a list of ticklabels is often used as a way to\u001b[39;00m\n\u001b[0;32m   1718\u001b[0m     \u001b[38;5;66;03m# remove all tick labels, so only error for > 0 ticklabels\u001b[39;00m\n\u001b[0;32m   1719\u001b[0m     \u001b[38;5;28;01mif\u001b[39;00m \u001b[38;5;28mlen\u001b[39m(locator\u001b[38;5;241m.\u001b[39mlocs) \u001b[38;5;241m!=\u001b[39m \u001b[38;5;28mlen\u001b[39m(ticklabels) \u001b[38;5;129;01mand\u001b[39;00m \u001b[38;5;28mlen\u001b[39m(ticklabels) \u001b[38;5;241m!=\u001b[39m \u001b[38;5;241m0\u001b[39m:\n\u001b[1;32m-> 1720\u001b[0m         \u001b[38;5;28;01mraise\u001b[39;00m \u001b[38;5;167;01mValueError\u001b[39;00m(\n\u001b[0;32m   1721\u001b[0m             \u001b[38;5;124m\"\u001b[39m\u001b[38;5;124mThe number of FixedLocator locations\u001b[39m\u001b[38;5;124m\"\u001b[39m\n\u001b[0;32m   1722\u001b[0m             \u001b[38;5;124mf\u001b[39m\u001b[38;5;124m\"\u001b[39m\u001b[38;5;124m (\u001b[39m\u001b[38;5;132;01m{\u001b[39;00m\u001b[38;5;28mlen\u001b[39m(locator\u001b[38;5;241m.\u001b[39mlocs)\u001b[38;5;132;01m}\u001b[39;00m\u001b[38;5;124m), usually from a call to\u001b[39m\u001b[38;5;124m\"\u001b[39m\n\u001b[0;32m   1723\u001b[0m             \u001b[38;5;124m\"\u001b[39m\u001b[38;5;124m set_ticks, does not match\u001b[39m\u001b[38;5;124m\"\u001b[39m\n\u001b[0;32m   1724\u001b[0m             \u001b[38;5;124mf\u001b[39m\u001b[38;5;124m\"\u001b[39m\u001b[38;5;124m the number of ticklabels (\u001b[39m\u001b[38;5;132;01m{\u001b[39;00m\u001b[38;5;28mlen\u001b[39m(ticklabels)\u001b[38;5;132;01m}\u001b[39;00m\u001b[38;5;124m).\u001b[39m\u001b[38;5;124m\"\u001b[39m)\n\u001b[0;32m   1725\u001b[0m     tickd \u001b[38;5;241m=\u001b[39m {loc: lab \u001b[38;5;28;01mfor\u001b[39;00m loc, lab \u001b[38;5;129;01min\u001b[39;00m \u001b[38;5;28mzip\u001b[39m(locator\u001b[38;5;241m.\u001b[39mlocs, ticklabels)}\n\u001b[0;32m   1726\u001b[0m     func \u001b[38;5;241m=\u001b[39m functools\u001b[38;5;241m.\u001b[39mpartial(\u001b[38;5;28mself\u001b[39m\u001b[38;5;241m.\u001b[39m_format_with_dict, tickd)\n",
      "\u001b[1;31mValueError\u001b[0m: The number of FixedLocator locations (6), usually from a call to set_ticks, does not match the number of ticklabels (33309)."
     ]
    },
    {
     "data": {
      "image/png": "[encoded data removed]",
      "text/plain": [
       "<Figure size 432x288 with 2 Axes>"
      ]
     },
     "metadata": {
      "needs_background": "light"
     },
     "output_type": "display_data"
    }
   ],
   "source": [
    "from sklearn.metrics import plot_confusion_matrix\n",
    "plot_confusion_matrix(Final_model_new, x_test, y_test,display_labels=y,cmap=plt.cm.Blues)  \n",
    "plt.show()"
   ]
  },
  {
   "cell_type": "code",
   "execution_count": 55,
   "id": "e60a9a84",
   "metadata": {},
   "outputs": [
    {
     "name": "stdout",
     "output_type": "stream",
     "text": [
      "              precision    recall  f1-score   support\n",
      "\n",
      "           0   0.806052  0.833570  0.819580      1406\n",
      "           1   0.645985  0.666667  0.656163      1062\n",
      "           2   0.777242  0.736746  0.756452      1094\n",
      "           3   0.716406  0.716406  0.716406      1213\n",
      "           4   0.690391  0.651736  0.670507       893\n",
      "           5   0.744848  0.763581  0.754098       994\n",
      "\n",
      "    accuracy                       0.734914      6662\n",
      "   macro avg   0.730154  0.728118  0.728868      6662\n",
      "weighted avg   0.734846  0.734914  0.734625      6662\n",
      "\n"
     ]
    }
   ],
   "source": [
    "from sklearn.metrics import classification_report\n",
    "print(classification_report(y_test,y_pred,digits=6))"
   ]
  },
  {
   "cell_type": "code",
   "execution_count": null,
   "id": "95396bf9",
   "metadata": {},
   "outputs": [],
   "source": []
  }
 ],
 "metadata": {
  "kernelspec": {
   "display_name": "Python 3 (ipykernel)",
   "language": "python",
   "name": "python3"
  },
  "language_info": {
   "codemirror_mode": {
    "name": "ipython",
    "version": 3
   },
   "file_extension": ".py",
   "mimetype": "text/x-python",
   "name": "python",
   "nbconvert_exporter": "python",
   "pygments_lexer": "ipython3",
   "version": "3.9.12"
  }
 },
 "nbformat": 4,
 "nbformat_minor": 5
}
